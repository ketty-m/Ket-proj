{
 "cells": [
  {
   "cell_type": "code",
   "execution_count": 2,
   "metadata": {},
   "outputs": [],
   "source": [
    "#importing the necessary libraries\n",
    "import numpy as np\n",
    "import matplotlib.pyplot as plt"
   ]
  },
  {
   "cell_type": "markdown",
   "metadata": {},
   "source": [
    "### Polynomial interpolation Example"
   ]
  },
  {
   "cell_type": "code",
   "execution_count": 21,
   "metadata": {},
   "outputs": [
    {
     "name": "stdout",
     "output_type": "stream",
     "text": [
      "[-5.  4. -7.  2.  3.]\n"
     ]
    }
   ],
   "source": [
    "\n",
    "x=[0,1,-1,2,-2] # interpolation points\n",
    "f=[-5,-3,-15,39,-9] \n",
    "V= np.vander(x,increasing=True)  # Creates the Vandermonde matrix.\n",
    "c=np.linalg.lstsq(V,f,rcond=-1)[0] # computes the coefficients \n",
    "print(c)\n"
   ]
  },
  {
   "cell_type": "code",
   "execution_count": null,
   "metadata": {},
   "outputs": [],
   "source": []
  },
  {
   "cell_type": "markdown",
   "metadata": {},
   "source": [
    "Polynomial approximation of $e^x$\n",
    "\n",
    "$\\begin{align*}\n",
    "f(x) = e^x \\approx \\sum_{k=0}^{n} c_{k} x^{k} = p_n(x)\n",
    "\\end{align*}$\n",
    "\n",
    "We consider points $x_{1},x_{2},...,x_{n+1}$ in the interval $[-1,1]$ with interpolation condition $f(x_j) = s_n(x_j)$ for $j = 1,2,...,n+1$\n",
    "\n",
    "\n",
    "Thus we have that \n",
    "\n",
    "$\\begin{align*}\n",
    "f(x_1) = p_n(x_1)=c_{0}x_{1}^{0} + c_{1}x_{1}^{1}+c_{2}x_{1}^{2}+\\cdots+c_{n}x_{1}^{n}\\\\\n",
    "f(x_2) = p_n(x_2)=c_{0}x_{2}^{0} + c_{1}x_{2}^{1}+c_{2}x_{2}^{2}+\\cdots+c_{n}x_{2}^{n}\\\\\n",
    "f(x_3) = p_n(x_3)=c_{0}x_{3}^{0}+c_{1}x_{3}^{1}+c_{2}x_{3}^{2}+\\cdots+c_{n}x_{3}^{n}\\\\\n",
    "\\vdots   \\\\\n",
    "f(x_n+1) = p_n(x_n+1)=c_{0}x_{n+1}^{0} + c_{1}x_{n+1}^{1}+c_{2}x_{n+1}^{2}+\\cdots+c_{n}x_{n+1}^{n}\\\\\n",
    "\\end{align*}$\n",
    "\n",
    "$\\begin{bmatrix}\n",
    "f(x_1) \\\\\n",
    "f(x_2)\\\\\n",
    "f(x_3)\\\\\n",
    ".\\\\\n",
    ".\\\\\n",
    "f(x_n+1)\n",
    "\\end{bmatrix}$ =\n",
    "$\\begin{bmatrix}\n",
    "1 & x_{1} & x_{1}^{2} & \\cdots & x_{1}^{n}\\\\\n",
    "1 & x_{2} & x_{2}^{2} & \\cdots & x_{2}^{n}\\\\\n",
    "1 & x_{3} & x_{3}^{2} & \\cdots & x_{3}^{n}\\\\\n",
    "\\vdots & \\vdots & \\vdots & \\cdots & \\vdots\\\\\n",
    "1 & x_{n+1} & x_{n+1}^{2} & \\cdots & x_{n+1}^{n}\n",
    "\\end{bmatrix}$\n",
    "$\\begin{bmatrix}\n",
    "c_0 \\\\\n",
    "c_1\\\\\n",
    "c_2)\\\\\n",
    ".\\\\\n",
    ".\\\\\n",
    "c_n+1)\n",
    "\\end{bmatrix}$ \n",
    "\n",
    "Therefore, we have that $$f = V c$$\n",
    "\n",
    "Where $V$ is the Vandermonde Matrix and $c$ is the Matrix of the coefficients\n"
   ]
  },
  {
   "cell_type": "markdown",
   "metadata": {},
   "source": [
    "The code below computes the coefficients $c_k$"
   ]
  },
  {
   "cell_type": "code",
   "execution_count": 14,
   "metadata": {},
   "outputs": [
    {
     "name": "stdout",
     "output_type": "stream",
     "text": [
      "[1.00000000e+00 1.00000000e+00 4.99999993e-01 1.66666666e-01\n",
      " 4.16667576e-02 8.33334158e-03 1.38851515e-03 1.98378793e-04\n",
      " 2.53688482e-05 2.80721794e-06]\n"
     ]
    }
   ],
   "source": [
    "\n",
    "x = np.linspace(-1,1,10)  # interpolation points\n",
    "n = 10 # Number of expansion terms in the series\n",
    "V= np.vander(x,n,increasing=True)  # Creates the Vandermonde matrix.\n",
    "f=np.exp(x) \n",
    "c=np.linalg.lstsq(V,f,rcond=-1)[0] # computes the coefficients \n",
    "print(c)"
   ]
  },
  {
   "cell_type": "code",
   "execution_count": null,
   "metadata": {},
   "outputs": [],
   "source": []
  },
  {
   "cell_type": "markdown",
   "metadata": {},
   "source": [
    "We now define a function exp_error(m,n),this function takes in the parameter m which is the total number of interpolation points and $n$ which is the number of expansion terms in the series. It then computes the coefficients $c$, find $p_n(x)=\\sum_{k=0}^{n} c_{k} x^{k} $ and computes the error of approximation $\\,$ \n",
    "\n",
    "$error_n = || f(x) - p_n(x) ||_{\\infty}$ $\\approx \\max_{{j=1,2,...,1000}} | f(xx_j) - p_n(xx_j)|$"
   ]
  },
  {
   "cell_type": "code",
   "execution_count": 15,
   "metadata": {},
   "outputs": [],
   "source": [
    "def exp_error(m,n):\n",
    "    x = np.linspace(-1,1,m)  # interpolation points\n",
    "    V= np.vander(x,n,increasing=True)  # Creates the Vandermonde matrix.\n",
    "    f=np.exp(x)\n",
    "    c=np.linalg.lstsq(V,f,rcond=-1)[0] # computing the coefficients\n",
    "    \n",
    "    #checking the error with more interpolation points \n",
    "    xx=np.linspace(-1,1,1000)  \n",
    "    ff=np.exp(xx)\n",
    "    p=0\n",
    "    for j in range(0,len(c)): #Sum the first n terms of the series\n",
    "        p=p+(xx**j) * c[j]\n",
    "    E=max(abs(ff-p)) # computes the error\n",
    "    return(E)\n"
   ]
  },
  {
   "cell_type": "markdown",
   "metadata": {},
   "source": [
    "### We now investigate the error in the polynomial approximation when we use a square matrix $(n \\times n)$ and when we use an overdetermined system $2n \\times n$"
   ]
  },
  {
   "cell_type": "code",
   "execution_count": null,
   "metadata": {},
   "outputs": [],
   "source": []
  },
  {
   "cell_type": "markdown",
   "metadata": {},
   "source": [
    "## For  the case $(n \\times n)$"
   ]
  },
  {
   "cell_type": "code",
   "execution_count": 6,
   "metadata": {},
   "outputs": [],
   "source": [
    "def plt_error1():\n",
    "    'This function computes the error for the case n*n'\n",
    "    Tn=[] #intialise list to append the error values at different values of n\n",
    "    for n in range(2,20):\n",
    "        T=exp_error(n,n) # computes the error\n",
    "        Tn.append(T)  \n",
    "    return(Tn)\n",
    "    \n",
    "    "
   ]
  },
  {
   "cell_type": "code",
   "execution_count": 49,
   "metadata": {},
   "outputs": [],
   "source": [
    "# Plotting the Error using semilogy "
   ]
  },
  {
   "cell_type": "code",
   "execution_count": 8,
   "metadata": {},
   "outputs": [
    {
     "data": {
      "image/png": "[encoded data removed]",
      "text/plain": [
       "<Figure size 432x288 with 1 Axes>"
      ]
     },
     "metadata": {
      "needs_background": "light"
     },
     "output_type": "display_data"
    }
   ],
   "source": [
    "y=plt_error1()\n",
    "x=np.linspace(2,20,18)\n",
    "plt.semilogy(x,y,'b')\n",
    "plt.xlabel('Number of expansion Terms')\n",
    "plt.ylabel('Error')\n",
    "plt.title('Plot of expansion terms versus error for the n*n case')\n",
    "plt.savefig('Plot_of_error_case1.png')\n",
    "plt.show()\n",
    "\n"
   ]
  },
  {
   "cell_type": "markdown",
   "metadata": {},
   "source": [
    "## For  the case $(2n \\times n)$"
   ]
  },
  {
   "cell_type": "code",
   "execution_count": null,
   "metadata": {},
   "outputs": [],
   "source": []
  },
  {
   "cell_type": "code",
   "execution_count": 10,
   "metadata": {},
   "outputs": [],
   "source": [
    "\n",
    "def plt_error2():\n",
    "    'This function computes the error for the case 2n*n'\n",
    "    Dn=[] #intialise list to append the error values at different values of n\n",
    "    for n in range(2,20):\n",
    "        D=exp_error(2*n,n) # computes the error\n",
    "        Dn.append(D)  \n",
    "    return(Dn)\n",
    "    "
   ]
  },
  {
   "cell_type": "code",
   "execution_count": null,
   "metadata": {},
   "outputs": [],
   "source": []
  },
  {
   "cell_type": "code",
   "execution_count": 11,
   "metadata": {},
   "outputs": [
    {
     "data": {
      "image/png": "[encoded data removed]",
      "text/plain": [
       "<Figure size 432x288 with 1 Axes>"
      ]
     },
     "metadata": {
      "needs_background": "light"
     },
     "output_type": "display_data"
    }
   ],
   "source": [
    "y_2=plt_error2()\n",
    "xx=np.linspace(2,20,18)\n",
    "plt.semilogy(xx,y_2,'r')\n",
    "plt.xlabel('Number of expansion Terms')\n",
    "plt.ylabel('Error')\n",
    "plt.title('Plot of expansion terms versus error for the 2n*n case ')\n",
    "plt.savefig('Plot_of_error_case2.png')\n",
    "plt.show()"
   ]
  },
  {
   "cell_type": "code",
   "execution_count": 12,
   "metadata": {},
   "outputs": [],
   "source": [
    "##Comparing the plots for n*n and (2*n)*n"
   ]
  },
  {
   "cell_type": "code",
   "execution_count": 13,
   "metadata": {},
   "outputs": [
    {
     "data": {
      "image/png": "[encoded data removed]",
      "text/plain": [
       "<Figure size 432x288 with 1 Axes>"
      ]
     },
     "metadata": {
      "needs_background": "light"
     },
     "output_type": "display_data"
    }
   ],
   "source": [
    "\n",
    "plt.semilogy(x,y,'b',xx,y_2,'r')\n",
    "plt.xlabel('Number of expansion Terms')\n",
    "plt.ylabel('Error')\n",
    "plt.title('Plot of expansion terms versus error for n*n and 2n*n')\n",
    "plt.savefig('Plot_of_error_both_cases.png')\n",
    "plt.legend\n",
    "plt.show()"
   ]
  },
  {
   "cell_type": "code",
   "execution_count": null,
   "metadata": {},
   "outputs": [],
   "source": []
  },
  {
   "cell_type": "code",
   "execution_count": null,
   "metadata": {},
   "outputs": [],
   "source": []
  },
  {
   "cell_type": "code",
   "execution_count": null,
   "metadata": {},
   "outputs": [],
   "source": []
  }
 ],
 "metadata": {
  "kernelspec": {
   "display_name": "Python 3",
   "language": "python",
   "name": "python3"
  },
  "language_info": {
   "codemirror_mode": {
    "name": "ipython",
    "version": 3
   },
   "file_extension": ".py",
   "mimetype": "text/x-python",
   "name": "python",
   "nbconvert_exporter": "python",
   "pygments_lexer": "ipython3",
   "version": "3.7.3"
  }
 },
 "nbformat": 4,
 "nbformat_minor": 2
}
